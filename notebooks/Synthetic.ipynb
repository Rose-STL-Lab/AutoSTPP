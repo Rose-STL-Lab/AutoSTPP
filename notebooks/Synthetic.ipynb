{
 "cells": [
  {
   "cell_type": "code",
   "execution_count": null,
   "metadata": {
    "collapsed": true,
    "pycharm": {
     "name": "#%%\n"
    }
   },
   "outputs": [],
   "source": [
    "from os import path\n",
    "\n",
    "import torch\n",
    "import numpy as np\n",
    "import matplotlib.pyplot as plt\n",
    "\n",
    "from tqdm import tqdm\n",
    "import plotly.graph_objects as go\n",
    "\n",
    "from plotter import *\n",
    "from IPython.display import Video\n",
    "\n",
    "np.random.seed(0)"
   ]
  },
  {
   "cell_type": "code",
   "execution_count": null,
   "outputs": [],
   "source": [
    "%cd /tmp/pycharm_project_300\n",
    "from src.data.synthetic import STHPDataset, STSCPDataset\n",
    "from src.visualization.visualize import plot_temporal\n",
    "from src.utils import get_device\n",
    "\n",
    "device = get_device()\n"
   ],
   "metadata": {
    "collapsed": false,
    "pycharm": {
     "name": "#%%\n"
    }
   }
  },
  {
   "cell_type": "code",
   "execution_count": null,
   "outputs": [],
   "source": [
    "stscp0 = STSCPDataset(g0_cov = np.array([[1, 0],\n",
    "                                         [0, 1]]),\n",
    "                      g2_cov = np.array([[.85, 0],\n",
    "                                         [0, .85]]),\n",
    "                      alpha = .2, beta = .2, mu = 1, gamma = 0,\n",
    "                      x_num = 101, y_num = 101,\n",
    "                      max_history=100, dist_only=False)\n",
    "\n",
    "#stscp0.generate(t_start=0, t_end=10000, verbose=True)\n",
    "#stscp0.save('data/stscp0.data')\n",
    "stscp0.load('data/stscp0.data', t_start=0, t_end=10000)\n"
   ],
   "metadata": {
    "collapsed": false,
    "pycharm": {
     "name": "#%%\n"
    }
   }
  }
 ],
 "metadata": {
  "kernelspec": {
   "display_name": "Python 3",
   "language": "python",
   "name": "python3"
  },
  "language_info": {
   "codemirror_mode": {
    "name": "ipython",
    "version": 2
   },
   "file_extension": ".py",
   "mimetype": "text/x-python",
   "name": "python",
   "nbconvert_exporter": "python",
   "pygments_lexer": "ipython2",
   "version": "2.7.6"
  }
 },
 "nbformat": 4,
 "nbformat_minor": 0
}