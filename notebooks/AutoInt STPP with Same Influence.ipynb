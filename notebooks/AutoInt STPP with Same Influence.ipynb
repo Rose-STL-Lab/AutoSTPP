{
 "cells": [
  {
   "cell_type": "code",
   "execution_count": 1,
   "outputs": [],
   "source": [
    "from tqdm.auto import trange\n",
    "\n",
    "import numpy as np\n",
    "import plotly.graph_objects as go\n",
    "\n",
    "import torch\n",
    "from torch.utils.data import DataLoader\n",
    "\n",
    "import os\n",
    "import sys\n",
    "import datetime\n",
    "import gc\n",
    "\n",
    "from IPython.display import SVG, display\n",
    "\n",
    "def imshow(fig):\n",
    "    return display(SVG(fig.to_image(format=\"svg\")))\n",
    "\n",
    "%matplotlib inline\n",
    "%config InlineBackend.figure_format='retina'\n",
    "\n",
    "eps = 1e-10  # A negligible positive number\n",
    "np.random.seed(0)\n"
   ],
   "metadata": {
    "collapsed": false
   }
  },
  {
   "cell_type": "code",
   "execution_count": 2,
   "outputs": [
    {
     "name": "stdout",
     "output_type": "stream",
     "text": [
      "/home/kevin/AutoInt\n"
     ]
    }
   ],
   "source": [
    "%cd /home/kevin/AutoInt\n",
    "from src.utils import get_device\n",
    "from src.integration.autoint import *\n",
    "#from src.models.st_model import AutoIntSTPPSameInfluence\n",
    "from src.utils import AverageMeter\n",
    "from tqdm.contrib import tenumerate\n",
    "from copy import deepcopy\n",
    "from src.data.data import SlidingWindowWrapper, TPPWrapper, pad_collate\n",
    "\n",
    "device = get_device(free=False, min_ram=0)"
   ],
   "metadata": {
    "collapsed": false
   }
  },
  {
   "cell_type": "code",
   "execution_count": 3,
   "outputs": [],
   "source": [
    "def eval_loss(model, test_loader):\n",
    "    model.eval()\n",
    "    sll_meter = AverageMeter()\n",
    "    tll_meter = AverageMeter()\n",
    "    loss_meter = AverageMeter()\n",
    "\n",
    "    for index, data in enumerate(test_loader):\n",
    "        st_x, st_y, _, _, _ = data\n",
    "        loss, sll, tll = model(st_x, st_y)\n",
    "\n",
    "        loss_meter.update(loss.item())\n",
    "        sll_meter.update(sll.mean().item())\n",
    "        tll_meter.update(tll.mean().item())\n",
    "\n",
    "    return loss_meter.avg, sll_meter.avg, tll_meter.avg"
   ],
   "metadata": {
    "collapsed": false
   }
  },
  {
   "cell_type": "code",
   "execution_count": 4,
   "outputs": [],
   "source": [
    "class Namespace:\n",
    "    def __init__(self, **kwargs):\n",
    "        self.__dict__.update(kwargs)\n",
    "\n",
    "config = Namespace(hid_dim=128, emb_dim=128, out_dim=0, n_layers=1,\n",
    "                   lr=0.001, momentum=0.9, epochs=100, batch=128, opt='Adam', generate_type=True,\n",
    "                   read_model=False, seq_len=20, eval_epoch=5, s_min=1e-3, b_max=20,\n",
    "                   lookahead=1, alpha=0.1, z_dim=128, beta=1e-3, dropout=0, num_head=2,\n",
    "                   nlayers=3, num_points=20, infer_nstep=10000, infer_limit=13, clip=1.0,\n",
    "                   constrain_b='sigmoid', sample=True, decoder_n_layer=3)"
   ],
   "metadata": {
    "collapsed": false
   }
  },
  {
   "cell_type": "code",
   "execution_count": 5,
   "outputs": [],
   "source": [
    "import torch\n",
    "from torch import nn\n",
    "\n",
    "from src.integration.autoint import Cuboid\n",
    "\n",
    "\n",
    "class AutoIntSTPPSameInfluence(nn.Module):\n",
    "\n",
    "    def __init__(self, hidden_size, device):\n",
    "        \"\"\"\n",
    "        :param: hidden_size: the dimension of linear hidden layer\n",
    "        :param: t_end: the time when observation terminates\n",
    "                if is None, then time after last event is not considered\n",
    "        \"\"\"\n",
    "        super().__init__()\n",
    "        self.hidden_size = hidden_size\n",
    "        self.device = device\n",
    "\n",
    "        # log background intensity\n",
    "        self.background = torch.nn.Parameter(torch.ones(1))\n",
    "\n",
    "        # ∫_0^t λ\n",
    "        self.F = Cuboid().to(device)\n",
    "\n",
    "        self.project()\n",
    "\n",
    "    def project(self):\n",
    "        \"\"\"\n",
    "        Employ non-negative constraint\n",
    "        \"\"\"\n",
    "        self.F.project()\n",
    "\n",
    "    def forward(self, st_x, st_y):\n",
    "        \"\"\"\n",
    "        Calculate NLL for a batch of sliding windows\n",
    "\n",
    "        :param st_x: [batch, seq_len, 3], the event timings\n",
    "        :param st_y: [batch, 1, 3], the time to forecast\n",
    "        :return: nll: scalar, the average negative log likelihood\n",
    "        \"\"\"\n",
    "\n",
    "        # Calculate spatiotemporal distance to previous events\n",
    "        t_x_cum = torch.cumsum(st_x[..., -1], -1)  # [batch, seq_len]\n",
    "        t_diff = t_x_cum[:, -1:] - t_x_cum + st_y[..., -1:, -1]  # [batch, seq_len]\n",
    "\n",
    "        if not torch.all(t_diff >= 0):\n",
    "            idx = torch.argmin(t_diff)\n",
    "            print(t_diff[idx // t_diff.shape[1]])\n",
    "            raise\n",
    "\n",
    "        s_x = st_x[..., :2]\n",
    "        s_y = st_y[..., :2]\n",
    "        s_diff = s_y - s_x   # [batch, seq_len, 2]\n",
    "        st_diff = torch.cat([s_diff, t_diff.unsqueeze(-1)], -1)\n",
    "\n",
    "        ########## Calculate intensity ############\n",
    "        # [batch, seq_len]\n",
    "        batch, seq_len, _ = st_diff.shape\n",
    "        lambs = self.F.forward(st_diff.view(-1, 3)).view([batch, seq_len])\n",
    "        temp = lambs  # TODO\n",
    "        # print(lambs[0])\n",
    "        lambs = torch.sum(lambs, -1) + torch.exp(self.background)  # sum up all events' influence\n",
    "\n",
    "        ########## Calculate temporal intensity ############\n",
    "        lamb_t = self.F.lamb_t(s_x.view(-1, 2), t_diff.view(-1)).view([batch, seq_len])\n",
    "        lamb_t = torch.sum(lamb_t, -1) + torch.exp(self.background)  # sum up all events' influence\n",
    "\n",
    "        ######### Calculate integral intensity ##########\n",
    "        # [batch, seq_len]\n",
    "        # cumulative intensity of every event\n",
    "        lamb_ints = self.F.int_lamb(s_x.view(-1, 2), (t_x_cum[:, -1:] - t_x_cum).view(-1), t_diff.view(-1)).view([batch, seq_len])\n",
    "\n",
    "        ######### Calculate loss ########\n",
    "        lamb_ints = torch.sum(lamb_ints, -1)\n",
    "        background_int = st_y[..., -1, -1] * torch.exp(self.background)\n",
    "        lamb_ints += background_int  # Add background intensities' integral\n",
    "\n",
    "        tll = torch.log(lamb_t).mean() - lamb_ints.mean()\n",
    "        ll = torch.log(lambs).mean() - lamb_ints.mean()\n",
    "\n",
    "        if not torch.all(lambs > 0):\n",
    "            idx = torch.argmax(torch.isnan(torch.log(lambs)).float())\n",
    "            print(idx)\n",
    "            print(t_diff[idx])\n",
    "            print(temp[idx])\n",
    "            print(torch.sum(temp[idx]))\n",
    "            print(torch.log(torch.sum(temp[idx])))\n",
    "            print(lambs)\n",
    "            print(torch.log(lambs))\n",
    "            print('--------------------------------------------')\n",
    "            raise\n",
    "\n",
    "        sll = ll - tll\n",
    "\n",
    "        return -ll, sll, tll\n"
   ],
   "metadata": {
    "collapsed": false
   }
  },
  {
   "cell_type": "markdown",
   "source": [
    "## COVID NJ Case"
   ],
   "metadata": {
    "collapsed": false
   }
  },
  {
   "cell_type": "code",
   "execution_count": 6,
   "outputs": [],
   "source": [
    "dataset = 'covid_nj_cases'\n",
    "npzf = np.load(f'data/spatiotemporal/{dataset}.npz', allow_pickle=True)"
   ],
   "metadata": {
    "collapsed": false
   }
  },
  {
   "cell_type": "code",
   "execution_count": 7,
   "outputs": [],
   "source": [
    "trainset = SlidingWindowWrapper(npzf['train'], normalized=True)\n",
    "valset   = SlidingWindowWrapper(npzf['val'],   normalized=True, min=trainset.min, max=trainset.max)\n",
    "testset  = SlidingWindowWrapper(npzf['test'],  normalized=True, min=trainset.min, max=trainset.max)"
   ],
   "metadata": {
    "collapsed": false
   }
  },
  {
   "cell_type": "code",
   "execution_count": 8,
   "outputs": [],
   "source": [
    "train_loader = DataLoader(trainset, batch_size=config.batch, shuffle=True)\n",
    "val_loader   = DataLoader(valset,   batch_size=config.batch, shuffle=False)\n",
    "test_loader  = DataLoader(testset,  batch_size=config.batch, shuffle=False)"
   ],
   "metadata": {
    "collapsed": false
   }
  },
  {
   "cell_type": "code",
   "execution_count": 9,
   "outputs": [],
   "source": [
    "# st_x = torch.rand(128, 20, 2).to(device)\n",
    "# st_y = torch.rand(128, 1, 2).to(device)\n",
    "#\n",
    "# model = AutoIntSTPPSameInfluence(config.hid_dim, t_end=1000.0, device=device).to(device)\n",
    "# model(st_x, st_y)"
   ],
   "metadata": {
    "collapsed": false
   }
  },
  {
   "cell_type": "code",
   "execution_count": 10,
   "outputs": [
    {
     "data": {
      "text/plain": "  0%|          | 0/100 [00:00<?, ?it/s]",
      "application/vnd.jupyter.widget-view+json": {
       "version_major": 2,
       "version_minor": 0,
       "model_id": "4f068bbc944848aebe4dcd0eaa219f3b"
      },
      "application/json": {
       "n": 0,
       "total": 100,
       "elapsed": 0.01223611831665039,
       "ncols": null,
       "nrows": null,
       "prefix": "",
       "ascii": false,
       "unit": "it",
       "unit_scale": false,
       "rate": null,
       "bar_format": null,
       "postfix": null,
       "unit_divisor": 1000,
       "initial": 0,
       "colour": null
      }
     },
     "metadata": {},
     "output_type": "display_data"
    },
    {
     "data": {
      "text/plain": "  0%|          | 0/901 [00:00<?, ?it/s]",
      "application/vnd.jupyter.widget-view+json": {
       "version_major": 2,
       "version_minor": 0,
       "model_id": "397d145d377e4aa49062d4a01132a6f0"
      },
      "application/json": {
       "n": 0,
       "total": 901,
       "elapsed": 0.011078119277954102,
       "ncols": null,
       "nrows": null,
       "prefix": "",
       "ascii": false,
       "unit": "it",
       "unit_scale": false,
       "rate": null,
       "bar_format": null,
       "postfix": null,
       "unit_divisor": 1000,
       "initial": 0,
       "colour": null
      }
     },
     "metadata": {},
     "output_type": "display_data"
    },
    {
     "ename": "KeyboardInterrupt",
     "evalue": "",
     "output_type": "error",
     "traceback": [
      "\u001B[0;31m---------------------------------------------------------------------------\u001B[0m",
      "\u001B[0;31mKeyboardInterrupt\u001B[0m                         Traceback (most recent call last)",
      "Input \u001B[0;32mIn [10]\u001B[0m, in \u001B[0;36m<cell line: 13>\u001B[0;34m()\u001B[0m\n\u001B[1;32m     21\u001B[0m \u001B[38;5;28;01mif\u001B[39;00m torch\u001B[38;5;241m.\u001B[39misnan(loss):\n\u001B[1;32m     22\u001B[0m     \u001B[38;5;28mprint\u001B[39m(\u001B[38;5;124m\"\u001B[39m\u001B[38;5;124mNumerical error, quiting...\u001B[39m\u001B[38;5;124m\"\u001B[39m)\n\u001B[0;32m---> 24\u001B[0m \u001B[43mloss\u001B[49m\u001B[38;5;241;43m.\u001B[39;49m\u001B[43mbackward\u001B[49m\u001B[43m(\u001B[49m\u001B[43m)\u001B[49m\n\u001B[1;32m     25\u001B[0m torch\u001B[38;5;241m.\u001B[39mnn\u001B[38;5;241m.\u001B[39mutils\u001B[38;5;241m.\u001B[39mclip_grad_norm_(model\u001B[38;5;241m.\u001B[39mparameters(), config\u001B[38;5;241m.\u001B[39mclip)\n\u001B[1;32m     26\u001B[0m optimizer\u001B[38;5;241m.\u001B[39mstep()\n",
      "File \u001B[0;32m~/miniconda3/envs/autoint/lib/python3.9/site-packages/torch/_tensor.py:396\u001B[0m, in \u001B[0;36mTensor.backward\u001B[0;34m(self, gradient, retain_graph, create_graph, inputs)\u001B[0m\n\u001B[1;32m    387\u001B[0m \u001B[38;5;28;01mif\u001B[39;00m has_torch_function_unary(\u001B[38;5;28mself\u001B[39m):\n\u001B[1;32m    388\u001B[0m     \u001B[38;5;28;01mreturn\u001B[39;00m handle_torch_function(\n\u001B[1;32m    389\u001B[0m         Tensor\u001B[38;5;241m.\u001B[39mbackward,\n\u001B[1;32m    390\u001B[0m         (\u001B[38;5;28mself\u001B[39m,),\n\u001B[0;32m   (...)\u001B[0m\n\u001B[1;32m    394\u001B[0m         create_graph\u001B[38;5;241m=\u001B[39mcreate_graph,\n\u001B[1;32m    395\u001B[0m         inputs\u001B[38;5;241m=\u001B[39minputs)\n\u001B[0;32m--> 396\u001B[0m \u001B[43mtorch\u001B[49m\u001B[38;5;241;43m.\u001B[39;49m\u001B[43mautograd\u001B[49m\u001B[38;5;241;43m.\u001B[39;49m\u001B[43mbackward\u001B[49m\u001B[43m(\u001B[49m\u001B[38;5;28;43mself\u001B[39;49m\u001B[43m,\u001B[49m\u001B[43m \u001B[49m\u001B[43mgradient\u001B[49m\u001B[43m,\u001B[49m\u001B[43m \u001B[49m\u001B[43mretain_graph\u001B[49m\u001B[43m,\u001B[49m\u001B[43m \u001B[49m\u001B[43mcreate_graph\u001B[49m\u001B[43m,\u001B[49m\u001B[43m \u001B[49m\u001B[43minputs\u001B[49m\u001B[38;5;241;43m=\u001B[39;49m\u001B[43minputs\u001B[49m\u001B[43m)\u001B[49m\n",
      "File \u001B[0;32m~/miniconda3/envs/autoint/lib/python3.9/site-packages/torch/autograd/__init__.py:173\u001B[0m, in \u001B[0;36mbackward\u001B[0;34m(tensors, grad_tensors, retain_graph, create_graph, grad_variables, inputs)\u001B[0m\n\u001B[1;32m    168\u001B[0m     retain_graph \u001B[38;5;241m=\u001B[39m create_graph\n\u001B[1;32m    170\u001B[0m \u001B[38;5;66;03m# The reason we repeat same the comment below is that\u001B[39;00m\n\u001B[1;32m    171\u001B[0m \u001B[38;5;66;03m# some Python versions print out the first line of a multi-line function\u001B[39;00m\n\u001B[1;32m    172\u001B[0m \u001B[38;5;66;03m# calls in the traceback and some print out the last line\u001B[39;00m\n\u001B[0;32m--> 173\u001B[0m \u001B[43mVariable\u001B[49m\u001B[38;5;241;43m.\u001B[39;49m\u001B[43m_execution_engine\u001B[49m\u001B[38;5;241;43m.\u001B[39;49m\u001B[43mrun_backward\u001B[49m\u001B[43m(\u001B[49m\u001B[43m  \u001B[49m\u001B[38;5;66;43;03m# Calls into the C++ engine to run the backward pass\u001B[39;49;00m\n\u001B[1;32m    174\u001B[0m \u001B[43m    \u001B[49m\u001B[43mtensors\u001B[49m\u001B[43m,\u001B[49m\u001B[43m \u001B[49m\u001B[43mgrad_tensors_\u001B[49m\u001B[43m,\u001B[49m\u001B[43m \u001B[49m\u001B[43mretain_graph\u001B[49m\u001B[43m,\u001B[49m\u001B[43m \u001B[49m\u001B[43mcreate_graph\u001B[49m\u001B[43m,\u001B[49m\u001B[43m \u001B[49m\u001B[43minputs\u001B[49m\u001B[43m,\u001B[49m\n\u001B[1;32m    175\u001B[0m \u001B[43m    \u001B[49m\u001B[43mallow_unreachable\u001B[49m\u001B[38;5;241;43m=\u001B[39;49m\u001B[38;5;28;43;01mTrue\u001B[39;49;00m\u001B[43m,\u001B[49m\u001B[43m \u001B[49m\u001B[43maccumulate_grad\u001B[49m\u001B[38;5;241;43m=\u001B[39;49m\u001B[38;5;28;43;01mTrue\u001B[39;49;00m\u001B[43m)\u001B[49m\n",
      "\u001B[0;31mKeyboardInterrupt\u001B[0m: "
     ]
    }
   ],
   "source": [
    "model = AutoIntSTPPSameInfluence(config.hid_dim, device=device).to(device)\n",
    "optimizer = torch.optim.Adam(model.parameters(), lr=config.lr)\n",
    "scheduler = torch.optim.lr_scheduler.StepLR(optimizer, step_size=50, gamma=0.2)\n",
    "best_eval = np.infty\n",
    "sll_meter = AverageMeter()\n",
    "tll_meter = AverageMeter()\n",
    "loss_meter = AverageMeter()\n",
    "\n",
    "time_now = str(datetime.datetime.now())\n",
    "parent_dir = f'models/AutoInt-STPP-Same-Influence-{dataset}-{time_now}'\n",
    "os.mkdir(parent_dir)\n",
    "\n",
    "for epoch in trange(config.epochs):\n",
    "    loss_total = 0\n",
    "    model.train()\n",
    "    for index, data in tenumerate(train_loader):\n",
    "        st_x, st_y, _, _, _ = data\n",
    "        optimizer.zero_grad()\n",
    "        loss, sll, tll = model(st_x, st_y)\n",
    "\n",
    "        if torch.isnan(loss):\n",
    "            print(\"Numerical error, quiting...\")\n",
    "\n",
    "        loss.backward()\n",
    "        torch.nn.utils.clip_grad_norm_(model.parameters(), config.clip)\n",
    "        optimizer.step()\n",
    "\n",
    "        # Project to feasible set\n",
    "        model.project()\n",
    "\n",
    "        loss_meter.update(loss.item())\n",
    "        sll_meter.update(sll.mean().item())\n",
    "        tll_meter.update(tll.mean().item())\n",
    "\n",
    "    scheduler.step()\n",
    "\n",
    "    print(\"In epochs {} | \"\n",
    "                \"total loss: {:5f} | Space: {:5f} | Time: {:5f}\".format(\n",
    "        epoch, loss_meter.avg, sll_meter.avg , tll_meter.avg\n",
    "    ))\n",
    "\n",
    "    if (epoch + 1) % config.eval_epoch == 0:\n",
    "        model.eval()\n",
    "        valloss, valspace, valtime = eval_loss(model, val_loader)\n",
    "        print(\"Evaluate   | Val Loss {:5f} | Space: {:5f} | Time: {:5f}\".format(valloss, valspace, valtime))\n",
    "        if valloss < best_eval:\n",
    "            best_eval = valloss\n",
    "            torch.save({\n",
    "                'model_state_dict': model.state_dict(),\n",
    "                'optimizer_state_dict': optimizer.state_dict(),\n",
    "                'scheduler_state_dict': scheduler.state_dict(),\n",
    "            }, f'{parent_dir}/AutoIntSTPP-{epoch}.mod')\n",
    "\n",
    "print(\"training done!\")"
   ],
   "metadata": {
    "collapsed": false
   }
  },
  {
   "cell_type": "markdown",
   "source": [
    "## Earthquakes JP"
   ],
   "metadata": {
    "collapsed": false
   }
  },
  {
   "cell_type": "code",
   "execution_count": null,
   "outputs": [],
   "source": [
    "config = Namespace(hid_dim=128, emb_dim=128, out_dim=0,\n",
    "                   lr=0.001, momentum=0.9, epochs=100, batch=512, opt='Adam', generate_type=True,\n",
    "                   read_model=False, seq_len=20, eval_epoch=5, s_min=1e-3, b_max=20,\n",
    "                   lookahead=1, alpha=0.1, z_dim=128, beta=1e-3, dropout=0, num_head=2,\n",
    "                   nlayers=3, num_points=20, infer_nstep=10000, infer_limit=13, clip=0.5,\n",
    "                   constrain_b='sigmoid', sample=True, decoder_n_layer=3)"
   ],
   "metadata": {
    "collapsed": false,
    "pycharm": {
     "is_executing": true
    }
   }
  },
  {
   "cell_type": "code",
   "execution_count": null,
   "outputs": [],
   "source": [
    "dataset = 'earthquakes_jp'\n",
    "npzf = np.load(f'data/spatiotemporal/{dataset}.npz', allow_pickle=True)"
   ],
   "metadata": {
    "collapsed": false,
    "pycharm": {
     "is_executing": true
    }
   }
  },
  {
   "cell_type": "code",
   "execution_count": null,
   "outputs": [],
   "source": [
    "trainset = SlidingWindowWrapper(npzf['train'], normalized=True)\n",
    "valset   = SlidingWindowWrapper(npzf['val'],   normalized=True, min=trainset.min, max=trainset.max)\n",
    "testset  = SlidingWindowWrapper(npzf['test'],  normalized=True, min=trainset.min, max=trainset.max)"
   ],
   "metadata": {
    "collapsed": false,
    "pycharm": {
     "is_executing": true
    }
   }
  },
  {
   "cell_type": "code",
   "execution_count": null,
   "outputs": [],
   "source": [
    "train_loader = DataLoader(trainset, batch_size=config.batch, shuffle=True)\n",
    "val_loader   = DataLoader(valset,   batch_size=config.batch, shuffle=False)\n",
    "test_loader  = DataLoader(testset,  batch_size=config.batch, shuffle=False)"
   ],
   "metadata": {
    "collapsed": false,
    "pycharm": {
     "is_executing": true
    }
   }
  },
  {
   "cell_type": "code",
   "execution_count": null,
   "outputs": [],
   "source": [
    "from tqdm import tqdm"
   ],
   "metadata": {
    "collapsed": false,
    "pycharm": {
     "is_executing": true
    }
   }
  },
  {
   "cell_type": "code",
   "execution_count": null,
   "outputs": [
    {
     "name": "stdout",
     "output_type": "stream",
     "text": [
      "In epochs 5 | total loss: -1.881053 | Space: 0.077642 | Time: 1.803411\n"
     ]
    },
    {
     "data": {
      "text/plain": "  0%|          | 0/104 [00:00<?, ?it/s]",
      "application/vnd.jupyter.widget-view+json": {
       "version_major": 2,
       "version_minor": 0,
       "model_id": "3bb6899b239440a2a1f7dcd9cf9ae6d7"
      },
      "application/json": {
       "n": 0,
       "total": 104,
       "elapsed": 0.023787260055541992,
       "ncols": null,
       "nrows": null,
       "prefix": "",
       "ascii": false,
       "unit": "it",
       "unit_scale": false,
       "rate": null,
       "bar_format": null,
       "postfix": null,
       "unit_divisor": 1000,
       "initial": 0,
       "colour": null
      }
     },
     "metadata": {},
     "output_type": "display_data"
    },
    {
     "name": "stdout",
     "output_type": "stream",
     "text": [
      "In epochs 6 | total loss: -1.885927 | Space: 0.081679 | Time: 1.804248\n"
     ]
    },
    {
     "data": {
      "text/plain": "  0%|          | 0/104 [00:00<?, ?it/s]",
      "application/vnd.jupyter.widget-view+json": {
       "version_major": 2,
       "version_minor": 0,
       "model_id": "eabe7ab39a234f41a226fd5b7949e603"
      },
      "application/json": {
       "n": 0,
       "total": 104,
       "elapsed": 0.01023101806640625,
       "ncols": null,
       "nrows": null,
       "prefix": "",
       "ascii": false,
       "unit": "it",
       "unit_scale": false,
       "rate": null,
       "bar_format": null,
       "postfix": null,
       "unit_divisor": 1000,
       "initial": 0,
       "colour": null
      }
     },
     "metadata": {},
     "output_type": "display_data"
    },
    {
     "name": "stdout",
     "output_type": "stream",
     "text": [
      "In epochs 7 | total loss: -1.889637 | Space: 0.084764 | Time: 1.804873\n"
     ]
    },
    {
     "data": {
      "text/plain": "  0%|          | 0/104 [00:00<?, ?it/s]",
      "application/vnd.jupyter.widget-view+json": {
       "version_major": 2,
       "version_minor": 0,
       "model_id": "6d5eea96c37b40589e49bbb8d8d16764"
      },
      "application/json": {
       "n": 0,
       "total": 104,
       "elapsed": 0.013563156127929688,
       "ncols": null,
       "nrows": null,
       "prefix": "",
       "ascii": false,
       "unit": "it",
       "unit_scale": false,
       "rate": null,
       "bar_format": null,
       "postfix": null,
       "unit_divisor": 1000,
       "initial": 0,
       "colour": null
      }
     },
     "metadata": {},
     "output_type": "display_data"
    }
   ],
   "source": [
    "model = AutoIntSTPPSameInfluence(config.hid_dim, device=device).to(device)\n",
    "optimizer = torch.optim.Adam(model.parameters(), lr=config.lr)\n",
    "scheduler = torch.optim.lr_scheduler.StepLR(optimizer, step_size=5, gamma=0.1)\n",
    "best_eval = np.infty\n",
    "sll_meter = AverageMeter()\n",
    "tll_meter = AverageMeter()\n",
    "loss_meter = AverageMeter()\n",
    "\n",
    "time_now = str(datetime.datetime.now())\n",
    "parent_dir = f'models/AutoInt-STPP-Same-Influence-{dataset}-{time_now}'\n",
    "os.mkdir(parent_dir)\n",
    "\n",
    "for epoch in trange(config.epochs):\n",
    "    loss_total = 0\n",
    "    model.train()\n",
    "    for index, data in tenumerate(train_loader):\n",
    "        st_x, st_y, _, _, _ = data\n",
    "        optimizer.zero_grad()\n",
    "        loss, sll, tll = model(st_x, st_y)\n",
    "\n",
    "        if torch.isnan(loss):\n",
    "            print(\"Numerical error, quiting...\")\n",
    "\n",
    "        loss.backward()\n",
    "        torch.nn.utils.clip_grad_norm_(model.parameters(), config.clip)\n",
    "        optimizer.step()\n",
    "\n",
    "        # Project to feasible set\n",
    "        model.project()\n",
    "\n",
    "        loss_meter.update(loss.item())\n",
    "        sll_meter.update(sll.mean().item())\n",
    "        tll_meter.update(tll.mean().item())\n",
    "\n",
    "    scheduler.step()\n",
    "\n",
    "    print(\"In epochs {} | \"\n",
    "                \"total loss: {:5f} | Space: {:5f} | Time: {:5f}\".format(\n",
    "        epoch, loss_meter.avg, sll_meter.avg , tll_meter.avg\n",
    "    ))\n",
    "\n",
    "    if (epoch + 1) % config.eval_epoch == 0:\n",
    "        model.eval()\n",
    "        valloss, valspace, valtime = eval_loss(model, val_loader)\n",
    "        print(\"Evaluate     | val loss:   {:5f} | Space: {:5f} | Time: {:5f}\".format(valloss, valspace, valtime))\n",
    "        if valloss < best_eval:\n",
    "            best_eval = valloss\n",
    "            torch.save({\n",
    "                'model_state_dict': model.state_dict(),\n",
    "                'optimizer_state_dict': optimizer.state_dict(),\n",
    "                'scheduler_state_dict': scheduler.state_dict(),\n",
    "            }, f'{parent_dir}/AutoIntSTPP-{epoch}.mod')\n",
    "\n",
    "print(\"training done!\")"
   ],
   "metadata": {
    "collapsed": false,
    "pycharm": {
     "is_executing": true
    }
   }
  },
  {
   "cell_type": "code",
   "execution_count": 14,
   "outputs": [
    {
     "data": {
      "text/plain": "Parameter containing:\ntensor([[nan, nan, nan],\n        [nan, nan, nan],\n        [nan, nan, nan],\n        [nan, nan, nan],\n        [nan, nan, nan],\n        [nan, nan, nan],\n        [nan, nan, nan],\n        [nan, nan, nan],\n        [nan, nan, nan],\n        [nan, nan, nan],\n        [nan, nan, nan],\n        [nan, nan, nan],\n        [nan, nan, nan],\n        [nan, nan, nan],\n        [nan, nan, nan],\n        [nan, nan, nan],\n        [nan, nan, nan],\n        [nan, nan, nan],\n        [nan, nan, nan],\n        [nan, nan, nan],\n        [nan, nan, nan],\n        [nan, nan, nan],\n        [nan, nan, nan],\n        [nan, nan, nan],\n        [nan, nan, nan],\n        [nan, nan, nan],\n        [nan, nan, nan],\n        [nan, nan, nan],\n        [nan, nan, nan],\n        [nan, nan, nan],\n        [nan, nan, nan],\n        [nan, nan, nan],\n        [nan, nan, nan],\n        [nan, nan, nan],\n        [nan, nan, nan],\n        [nan, nan, nan],\n        [nan, nan, nan],\n        [nan, nan, nan],\n        [nan, nan, nan],\n        [nan, nan, nan],\n        [nan, nan, nan],\n        [nan, nan, nan],\n        [nan, nan, nan],\n        [nan, nan, nan],\n        [nan, nan, nan],\n        [nan, nan, nan],\n        [nan, nan, nan],\n        [nan, nan, nan],\n        [nan, nan, nan],\n        [nan, nan, nan],\n        [nan, nan, nan],\n        [nan, nan, nan],\n        [nan, nan, nan],\n        [nan, nan, nan],\n        [nan, nan, nan],\n        [nan, nan, nan],\n        [nan, nan, nan],\n        [nan, nan, nan],\n        [nan, nan, nan],\n        [nan, nan, nan],\n        [nan, nan, nan],\n        [nan, nan, nan],\n        [nan, nan, nan],\n        [nan, nan, nan]], device='cuda:0', requires_grad=True)"
     },
     "execution_count": 14,
     "metadata": {},
     "output_type": "execute_result"
    }
   ],
   "source": [
    "model.F.L.layers.layers[0].weight"
   ],
   "metadata": {
    "collapsed": false
   }
  },
  {
   "cell_type": "code",
   "execution_count": null,
   "outputs": [],
   "source": [
    "\n",
    "            print(t_diff[idx])\n",
    "            print(temp[idx])\n",
    "            print(torch.log(lambs))\n",
    "            print(torch.log(lambs).mean())\n",
    "            print(lamb_t)\n",
    "            print(lamb_ints)\n",
    "            print(ll)\n",
    "            print(tll)"
   ],
   "metadata": {
    "collapsed": false
   }
  },
  {
   "cell_type": "code",
   "execution_count": null,
   "outputs": [],
   "source": [],
   "metadata": {
    "collapsed": false
   }
  },
  {
   "cell_type": "markdown",
   "source": [
    "## STHP TS1"
   ],
   "metadata": {
    "collapsed": false
   }
  },
  {
   "cell_type": "code",
   "execution_count": 35,
   "outputs": [],
   "source": [
    "config = Namespace(hid_dim=128, emb_dim=128, out_dim=0, n_layers=1,\n",
    "                   lr=0.0003, momentum=0.9, epochs=50, batch=128, opt='Adam', generate_type=True,\n",
    "                   read_model=False, seq_len=20, eval_epoch=5, s_min=1e-4, b_max=20,\n",
    "                   lookahead=1, alpha=0.1, z_dim=128, beta=1e-3, dropout=0, num_head=2,\n",
    "                   nlayers=3, num_points=20, infer_nstep=10000, infer_limit=13, clip=1.0,\n",
    "                   constrain_b=False, sample=False, decoder_n_layer=3)"
   ],
   "metadata": {
    "collapsed": false
   }
  },
  {
   "cell_type": "code",
   "execution_count": 36,
   "outputs": [],
   "source": [
    "dataset = 'sthp1'\n",
    "npzf = np.load(f'data/spatiotemporal/{dataset}.npz', allow_pickle=True)"
   ],
   "metadata": {
    "collapsed": false
   }
  },
  {
   "cell_type": "code",
   "execution_count": 37,
   "outputs": [],
   "source": [
    "trainset = SlidingWindowWrapper(npzf['train'], normalized=True)\n",
    "valset   = SlidingWindowWrapper(npzf['val'],   normalized=True, min=trainset.min, max=trainset.max)\n",
    "testset  = SlidingWindowWrapper(npzf['test'],  normalized=True, min=trainset.min, max=trainset.max)"
   ],
   "metadata": {
    "collapsed": false
   }
  },
  {
   "cell_type": "code",
   "execution_count": 38,
   "outputs": [],
   "source": [
    "train_loader = DataLoader(trainset, batch_size=config.batch, shuffle=True)\n",
    "val_loader   = DataLoader(valset,   batch_size=config.batch, shuffle=False)\n",
    "test_loader  = DataLoader(testset,  batch_size=config.batch, shuffle=False)\n"
   ],
   "metadata": {
    "collapsed": false
   }
  },
  {
   "cell_type": "code",
   "execution_count": 39,
   "outputs": [
    {
     "data": {
      "text/plain": "  0%|          | 0/50 [00:00<?, ?it/s]",
      "application/vnd.jupyter.widget-view+json": {
       "version_major": 2,
       "version_minor": 0,
       "model_id": "7a963c84946342608fc257252b2f30b2"
      },
      "application/json": {
       "n": 0,
       "total": 50,
       "elapsed": 0.010922670364379883,
       "ncols": null,
       "nrows": null,
       "prefix": "",
       "ascii": false,
       "unit": "it",
       "unit_scale": false,
       "rate": null,
       "bar_format": null,
       "postfix": null,
       "unit_divisor": 1000,
       "initial": 0,
       "colour": null
      }
     },
     "metadata": {},
     "output_type": "display_data"
    },
    {
     "data": {
      "text/plain": "  0%|          | 0/50 [00:00<?, ?it/s]",
      "application/vnd.jupyter.widget-view+json": {
       "version_major": 2,
       "version_minor": 0,
       "model_id": "8af4affee30b4273b769c001b8fa3db4"
      },
      "application/json": {
       "n": 0,
       "total": 50,
       "elapsed": 0.010727882385253906,
       "ncols": null,
       "nrows": null,
       "prefix": "",
       "ascii": false,
       "unit": "it",
       "unit_scale": false,
       "rate": null,
       "bar_format": null,
       "postfix": null,
       "unit_divisor": 1000,
       "initial": 0,
       "colour": null
      }
     },
     "metadata": {},
     "output_type": "display_data"
    },
    {
     "name": "stdout",
     "output_type": "stream",
     "text": [
      "In epochs 0 | total loss: -1.767626 | Space: 0.001709 | Time: 1.765916\n"
     ]
    },
    {
     "data": {
      "text/plain": "  0%|          | 0/50 [00:00<?, ?it/s]",
      "application/vnd.jupyter.widget-view+json": {
       "version_major": 2,
       "version_minor": 0,
       "model_id": "d357d3bbdb7b4010b9cbd88fdcf6b37b"
      },
      "application/json": {
       "n": 0,
       "total": 50,
       "elapsed": 0.01016092300415039,
       "ncols": null,
       "nrows": null,
       "prefix": "",
       "ascii": false,
       "unit": "it",
       "unit_scale": false,
       "rate": null,
       "bar_format": null,
       "postfix": null,
       "unit_divisor": 1000,
       "initial": 0,
       "colour": null
      }
     },
     "metadata": {},
     "output_type": "display_data"
    },
    {
     "name": "stdout",
     "output_type": "stream",
     "text": [
      "In epochs 1 | total loss: -2.311365 | Space: 0.001964 | Time: 2.309401\n"
     ]
    },
    {
     "data": {
      "text/plain": "  0%|          | 0/50 [00:00<?, ?it/s]",
      "application/vnd.jupyter.widget-view+json": {
       "version_major": 2,
       "version_minor": 0,
       "model_id": "cff07751074e49e3862d88518dc18a39"
      },
      "application/json": {
       "n": 0,
       "total": 50,
       "elapsed": 0.011734247207641602,
       "ncols": null,
       "nrows": null,
       "prefix": "",
       "ascii": false,
       "unit": "it",
       "unit_scale": false,
       "rate": null,
       "bar_format": null,
       "postfix": null,
       "unit_divisor": 1000,
       "initial": 0,
       "colour": null
      }
     },
     "metadata": {},
     "output_type": "display_data"
    },
    {
     "name": "stdout",
     "output_type": "stream",
     "text": [
      "In epochs 2 | total loss: -2.529467 | Space: 0.002144 | Time: 2.527323\n"
     ]
    },
    {
     "data": {
      "text/plain": "  0%|          | 0/50 [00:00<?, ?it/s]",
      "application/vnd.jupyter.widget-view+json": {
       "version_major": 2,
       "version_minor": 0,
       "model_id": "f301c329166d474da004e911142b1e37"
      },
      "application/json": {
       "n": 0,
       "total": 50,
       "elapsed": 0.010737180709838867,
       "ncols": null,
       "nrows": null,
       "prefix": "",
       "ascii": false,
       "unit": "it",
       "unit_scale": false,
       "rate": null,
       "bar_format": null,
       "postfix": null,
       "unit_divisor": 1000,
       "initial": 0,
       "colour": null
      }
     },
     "metadata": {},
     "output_type": "display_data"
    },
    {
     "name": "stdout",
     "output_type": "stream",
     "text": [
      "In epochs 3 | total loss: -2.639349 | Space: 0.002354 | Time: 2.636995\n"
     ]
    },
    {
     "data": {
      "text/plain": "  0%|          | 0/50 [00:00<?, ?it/s]",
      "application/vnd.jupyter.widget-view+json": {
       "version_major": 2,
       "version_minor": 0,
       "model_id": "cf5e2fd82b1f4f2e872d082e0fde2ca4"
      },
      "application/json": {
       "n": 0,
       "total": 50,
       "elapsed": 0.010174751281738281,
       "ncols": null,
       "nrows": null,
       "prefix": "",
       "ascii": false,
       "unit": "it",
       "unit_scale": false,
       "rate": null,
       "bar_format": null,
       "postfix": null,
       "unit_divisor": 1000,
       "initial": 0,
       "colour": null
      }
     },
     "metadata": {},
     "output_type": "display_data"
    },
    {
     "name": "stdout",
     "output_type": "stream",
     "text": [
      "In epochs 4 | total loss: -2.704216 | Space: 0.002501 | Time: 2.701715\n",
      "Evaluate     | val loss:   -2.222175 | Space: 0.017257 | Time: 2.204918\n"
     ]
    },
    {
     "data": {
      "text/plain": "  0%|          | 0/50 [00:00<?, ?it/s]",
      "application/vnd.jupyter.widget-view+json": {
       "version_major": 2,
       "version_minor": 0,
       "model_id": "3da78b4386744e4fb4944e73802292a1"
      },
      "application/json": {
       "n": 0,
       "total": 50,
       "elapsed": 0.010316133499145508,
       "ncols": null,
       "nrows": null,
       "prefix": "",
       "ascii": false,
       "unit": "it",
       "unit_scale": false,
       "rate": null,
       "bar_format": null,
       "postfix": null,
       "unit_divisor": 1000,
       "initial": 0,
       "colour": null
      }
     },
     "metadata": {},
     "output_type": "display_data"
    },
    {
     "name": "stdout",
     "output_type": "stream",
     "text": [
      "In epochs 5 | total loss: -2.745920 | Space: 0.002538 | Time: 2.743382\n"
     ]
    },
    {
     "data": {
      "text/plain": "  0%|          | 0/50 [00:00<?, ?it/s]",
      "application/vnd.jupyter.widget-view+json": {
       "version_major": 2,
       "version_minor": 0,
       "model_id": "1e7755d7a13246b7a1f4fae3bd22db1d"
      },
      "application/json": {
       "n": 0,
       "total": 50,
       "elapsed": 0.010061025619506836,
       "ncols": null,
       "nrows": null,
       "prefix": "",
       "ascii": false,
       "unit": "it",
       "unit_scale": false,
       "rate": null,
       "bar_format": null,
       "postfix": null,
       "unit_divisor": 1000,
       "initial": 0,
       "colour": null
      }
     },
     "metadata": {},
     "output_type": "display_data"
    },
    {
     "name": "stdout",
     "output_type": "stream",
     "text": [
      "In epochs 6 | total loss: -2.777150 | Space: 0.002622 | Time: 2.774528\n"
     ]
    },
    {
     "data": {
      "text/plain": "  0%|          | 0/50 [00:00<?, ?it/s]",
      "application/vnd.jupyter.widget-view+json": {
       "version_major": 2,
       "version_minor": 0,
       "model_id": "1c75cf365c8142eab9ad27ef2837ef6d"
      },
      "application/json": {
       "n": 0,
       "total": 50,
       "elapsed": 0.010559797286987305,
       "ncols": null,
       "nrows": null,
       "prefix": "",
       "ascii": false,
       "unit": "it",
       "unit_scale": false,
       "rate": null,
       "bar_format": null,
       "postfix": null,
       "unit_divisor": 1000,
       "initial": 0,
       "colour": null
      }
     },
     "metadata": {},
     "output_type": "display_data"
    },
    {
     "name": "stdout",
     "output_type": "stream",
     "text": [
      "In epochs 7 | total loss: -2.801980 | Space: 0.002632 | Time: 2.799347\n"
     ]
    },
    {
     "data": {
      "text/plain": "  0%|          | 0/50 [00:00<?, ?it/s]",
      "application/vnd.jupyter.widget-view+json": {
       "version_major": 2,
       "version_minor": 0,
       "model_id": "439d449384974c40986a395f5d779b32"
      },
      "application/json": {
       "n": 0,
       "total": 50,
       "elapsed": 0.010523080825805664,
       "ncols": null,
       "nrows": null,
       "prefix": "",
       "ascii": false,
       "unit": "it",
       "unit_scale": false,
       "rate": null,
       "bar_format": null,
       "postfix": null,
       "unit_divisor": 1000,
       "initial": 0,
       "colour": null
      }
     },
     "metadata": {},
     "output_type": "display_data"
    },
    {
     "name": "stdout",
     "output_type": "stream",
     "text": [
      "In epochs 8 | total loss: -2.820732 | Space: 0.002617 | Time: 2.818115\n"
     ]
    },
    {
     "data": {
      "text/plain": "  0%|          | 0/50 [00:00<?, ?it/s]",
      "application/vnd.jupyter.widget-view+json": {
       "version_major": 2,
       "version_minor": 0,
       "model_id": "35d1356e44f34ac29dcc21bf0a36e6bc"
      },
      "application/json": {
       "n": 0,
       "total": 50,
       "elapsed": 0.009825706481933594,
       "ncols": null,
       "nrows": null,
       "prefix": "",
       "ascii": false,
       "unit": "it",
       "unit_scale": false,
       "rate": null,
       "bar_format": null,
       "postfix": null,
       "unit_divisor": 1000,
       "initial": 0,
       "colour": null
      }
     },
     "metadata": {},
     "output_type": "display_data"
    },
    {
     "name": "stdout",
     "output_type": "stream",
     "text": [
      "In epochs 9 | total loss: -2.835508 | Space: 0.002619 | Time: 2.832890\n",
      "Evaluate     | val loss:   -2.205857 | Space: 0.017368 | Time: 2.188489\n"
     ]
    },
    {
     "data": {
      "text/plain": "  0%|          | 0/50 [00:00<?, ?it/s]",
      "application/vnd.jupyter.widget-view+json": {
       "version_major": 2,
       "version_minor": 0,
       "model_id": "70de1c8a19d94370932149e2041b1876"
      },
      "application/json": {
       "n": 0,
       "total": 50,
       "elapsed": 0.01038360595703125,
       "ncols": null,
       "nrows": null,
       "prefix": "",
       "ascii": false,
       "unit": "it",
       "unit_scale": false,
       "rate": null,
       "bar_format": null,
       "postfix": null,
       "unit_divisor": 1000,
       "initial": 0,
       "colour": null
      }
     },
     "metadata": {},
     "output_type": "display_data"
    },
    {
     "name": "stdout",
     "output_type": "stream",
     "text": [
      "In epochs 10 | total loss: -2.847785 | Space: 0.002650 | Time: 2.845134\n"
     ]
    },
    {
     "data": {
      "text/plain": "  0%|          | 0/50 [00:00<?, ?it/s]",
      "application/vnd.jupyter.widget-view+json": {
       "version_major": 2,
       "version_minor": 0,
       "model_id": "25f5d4ea7f9c4931bf984302dbe4fcb5"
      },
      "application/json": {
       "n": 0,
       "total": 50,
       "elapsed": 0.013865470886230469,
       "ncols": null,
       "nrows": null,
       "prefix": "",
       "ascii": false,
       "unit": "it",
       "unit_scale": false,
       "rate": null,
       "bar_format": null,
       "postfix": null,
       "unit_divisor": 1000,
       "initial": 0,
       "colour": null
      }
     },
     "metadata": {},
     "output_type": "display_data"
    },
    {
     "name": "stdout",
     "output_type": "stream",
     "text": [
      "In epochs 11 | total loss: -2.858325 | Space: 0.002650 | Time: 2.855675\n"
     ]
    },
    {
     "data": {
      "text/plain": "  0%|          | 0/50 [00:00<?, ?it/s]",
      "application/vnd.jupyter.widget-view+json": {
       "version_major": 2,
       "version_minor": 0,
       "model_id": "77664403f46e4636b2d2f0f144dffed0"
      },
      "application/json": {
       "n": 0,
       "total": 50,
       "elapsed": 0.010265111923217773,
       "ncols": null,
       "nrows": null,
       "prefix": "",
       "ascii": false,
       "unit": "it",
       "unit_scale": false,
       "rate": null,
       "bar_format": null,
       "postfix": null,
       "unit_divisor": 1000,
       "initial": 0,
       "colour": null
      }
     },
     "metadata": {},
     "output_type": "display_data"
    },
    {
     "name": "stdout",
     "output_type": "stream",
     "text": [
      "In epochs 12 | total loss: -2.867311 | Space: 0.002683 | Time: 2.864628\n"
     ]
    },
    {
     "data": {
      "text/plain": "  0%|          | 0/50 [00:00<?, ?it/s]",
      "application/vnd.jupyter.widget-view+json": {
       "version_major": 2,
       "version_minor": 0,
       "model_id": "a54ed29466ad49b9bcb9e4fa0a8a51dd"
      },
      "application/json": {
       "n": 0,
       "total": 50,
       "elapsed": 0.01009821891784668,
       "ncols": null,
       "nrows": null,
       "prefix": "",
       "ascii": false,
       "unit": "it",
       "unit_scale": false,
       "rate": null,
       "bar_format": null,
       "postfix": null,
       "unit_divisor": 1000,
       "initial": 0,
       "colour": null
      }
     },
     "metadata": {},
     "output_type": "display_data"
    },
    {
     "name": "stdout",
     "output_type": "stream",
     "text": [
      "In epochs 13 | total loss: -2.874045 | Space: 0.002689 | Time: 2.871356\n"
     ]
    },
    {
     "data": {
      "text/plain": "  0%|          | 0/50 [00:00<?, ?it/s]",
      "application/vnd.jupyter.widget-view+json": {
       "version_major": 2,
       "version_minor": 0,
       "model_id": "d80416f3c93944b2be9642cd25cf52e8"
      },
      "application/json": {
       "n": 0,
       "total": 50,
       "elapsed": 0.010357141494750977,
       "ncols": null,
       "nrows": null,
       "prefix": "",
       "ascii": false,
       "unit": "it",
       "unit_scale": false,
       "rate": null,
       "bar_format": null,
       "postfix": null,
       "unit_divisor": 1000,
       "initial": 0,
       "colour": null
      }
     },
     "metadata": {},
     "output_type": "display_data"
    },
    {
     "name": "stdout",
     "output_type": "stream",
     "text": [
      "In epochs 14 | total loss: -2.880618 | Space: 0.002701 | Time: 2.877917\n",
      "Evaluate     | val loss:   -2.205031 | Space: 0.017376 | Time: 2.187655\n"
     ]
    },
    {
     "data": {
      "text/plain": "  0%|          | 0/50 [00:00<?, ?it/s]",
      "application/vnd.jupyter.widget-view+json": {
       "version_major": 2,
       "version_minor": 0,
       "model_id": "fabd601c3b8b4930821387a6a151ba20"
      },
      "application/json": {
       "n": 0,
       "total": 50,
       "elapsed": 0.010736227035522461,
       "ncols": null,
       "nrows": null,
       "prefix": "",
       "ascii": false,
       "unit": "it",
       "unit_scale": false,
       "rate": null,
       "bar_format": null,
       "postfix": null,
       "unit_divisor": 1000,
       "initial": 0,
       "colour": null
      }
     },
     "metadata": {},
     "output_type": "display_data"
    },
    {
     "name": "stdout",
     "output_type": "stream",
     "text": [
      "In epochs 15 | total loss: -2.886276 | Space: 0.002707 | Time: 2.883569\n"
     ]
    },
    {
     "data": {
      "text/plain": "  0%|          | 0/50 [00:00<?, ?it/s]",
      "application/vnd.jupyter.widget-view+json": {
       "version_major": 2,
       "version_minor": 0,
       "model_id": "bc5950cc73a14c32a6682a8038eb6f81"
      },
      "application/json": {
       "n": 0,
       "total": 50,
       "elapsed": 0.010886192321777344,
       "ncols": null,
       "nrows": null,
       "prefix": "",
       "ascii": false,
       "unit": "it",
       "unit_scale": false,
       "rate": null,
       "bar_format": null,
       "postfix": null,
       "unit_divisor": 1000,
       "initial": 0,
       "colour": null
      }
     },
     "metadata": {},
     "output_type": "display_data"
    },
    {
     "name": "stdout",
     "output_type": "stream",
     "text": [
      "In epochs 16 | total loss: -2.891075 | Space: 0.002722 | Time: 2.888354\n"
     ]
    },
    {
     "data": {
      "text/plain": "  0%|          | 0/50 [00:00<?, ?it/s]",
      "application/vnd.jupyter.widget-view+json": {
       "version_major": 2,
       "version_minor": 0,
       "model_id": "49b07230e8214b67806f66cbf57f3595"
      },
      "application/json": {
       "n": 0,
       "total": 50,
       "elapsed": 0.010972738265991211,
       "ncols": null,
       "nrows": null,
       "prefix": "",
       "ascii": false,
       "unit": "it",
       "unit_scale": false,
       "rate": null,
       "bar_format": null,
       "postfix": null,
       "unit_divisor": 1000,
       "initial": 0,
       "colour": null
      }
     },
     "metadata": {},
     "output_type": "display_data"
    },
    {
     "name": "stdout",
     "output_type": "stream",
     "text": [
      "In epochs 17 | total loss: -2.895272 | Space: 0.002734 | Time: 2.892537\n"
     ]
    },
    {
     "data": {
      "text/plain": "  0%|          | 0/50 [00:00<?, ?it/s]",
      "application/vnd.jupyter.widget-view+json": {
       "version_major": 2,
       "version_minor": 0,
       "model_id": "c69ce93ecba849fabeea8194bb018638"
      },
      "application/json": {
       "n": 0,
       "total": 50,
       "elapsed": 0.01065683364868164,
       "ncols": null,
       "nrows": null,
       "prefix": "",
       "ascii": false,
       "unit": "it",
       "unit_scale": false,
       "rate": null,
       "bar_format": null,
       "postfix": null,
       "unit_divisor": 1000,
       "initial": 0,
       "colour": null
      }
     },
     "metadata": {},
     "output_type": "display_data"
    },
    {
     "name": "stdout",
     "output_type": "stream",
     "text": [
      "In epochs 18 | total loss: -2.899233 | Space: 0.002743 | Time: 2.896490\n"
     ]
    },
    {
     "data": {
      "text/plain": "  0%|          | 0/50 [00:00<?, ?it/s]",
      "application/vnd.jupyter.widget-view+json": {
       "version_major": 2,
       "version_minor": 0,
       "model_id": "b5856b1f87c94b259ac8656fa1773f41"
      },
      "application/json": {
       "n": 0,
       "total": 50,
       "elapsed": 0.01071929931640625,
       "ncols": null,
       "nrows": null,
       "prefix": "",
       "ascii": false,
       "unit": "it",
       "unit_scale": false,
       "rate": null,
       "bar_format": null,
       "postfix": null,
       "unit_divisor": 1000,
       "initial": 0,
       "colour": null
      }
     },
     "metadata": {},
     "output_type": "display_data"
    },
    {
     "name": "stdout",
     "output_type": "stream",
     "text": [
      "In epochs 19 | total loss: -2.902888 | Space: 0.002751 | Time: 2.900136\n",
      "Evaluate     | val loss:   -2.204557 | Space: 0.017378 | Time: 2.187178\n"
     ]
    },
    {
     "data": {
      "text/plain": "  0%|          | 0/50 [00:00<?, ?it/s]",
      "application/vnd.jupyter.widget-view+json": {
       "version_major": 2,
       "version_minor": 0,
       "model_id": "4676bc3f821e413e9ecd0d1046a55346"
      },
      "application/json": {
       "n": 0,
       "total": 50,
       "elapsed": 0.01090240478515625,
       "ncols": null,
       "nrows": null,
       "prefix": "",
       "ascii": false,
       "unit": "it",
       "unit_scale": false,
       "rate": null,
       "bar_format": null,
       "postfix": null,
       "unit_divisor": 1000,
       "initial": 0,
       "colour": null
      }
     },
     "metadata": {},
     "output_type": "display_data"
    },
    {
     "name": "stdout",
     "output_type": "stream",
     "text": [
      "In epochs 20 | total loss: -2.904761 | Space: 0.002762 | Time: 2.901999\n"
     ]
    },
    {
     "data": {
      "text/plain": "  0%|          | 0/50 [00:00<?, ?it/s]",
      "application/vnd.jupyter.widget-view+json": {
       "version_major": 2,
       "version_minor": 0,
       "model_id": "4ca69bc7264a4bffbdfaa4175a9a27d4"
      },
      "application/json": {
       "n": 0,
       "total": 50,
       "elapsed": 0.010872602462768555,
       "ncols": null,
       "nrows": null,
       "prefix": "",
       "ascii": false,
       "unit": "it",
       "unit_scale": false,
       "rate": null,
       "bar_format": null,
       "postfix": null,
       "unit_divisor": 1000,
       "initial": 0,
       "colour": null
      }
     },
     "metadata": {},
     "output_type": "display_data"
    },
    {
     "name": "stdout",
     "output_type": "stream",
     "text": [
      "In epochs 21 | total loss: -2.907703 | Space: 0.002766 | Time: 2.904938\n"
     ]
    },
    {
     "data": {
      "text/plain": "  0%|          | 0/50 [00:00<?, ?it/s]",
      "application/vnd.jupyter.widget-view+json": {
       "version_major": 2,
       "version_minor": 0,
       "model_id": "d9d2db9987564227a28ea8cc1dcce9d7"
      },
      "application/json": {
       "n": 0,
       "total": 50,
       "elapsed": 0.011086225509643555,
       "ncols": null,
       "nrows": null,
       "prefix": "",
       "ascii": false,
       "unit": "it",
       "unit_scale": false,
       "rate": null,
       "bar_format": null,
       "postfix": null,
       "unit_divisor": 1000,
       "initial": 0,
       "colour": null
      }
     },
     "metadata": {},
     "output_type": "display_data"
    },
    {
     "name": "stdout",
     "output_type": "stream",
     "text": [
      "In epochs 22 | total loss: -2.910394 | Space: 0.002771 | Time: 2.907623\n"
     ]
    },
    {
     "data": {
      "text/plain": "  0%|          | 0/50 [00:00<?, ?it/s]",
      "application/vnd.jupyter.widget-view+json": {
       "version_major": 2,
       "version_minor": 0,
       "model_id": "335a8a3a59334662874ba92528416648"
      },
      "application/json": {
       "n": 0,
       "total": 50,
       "elapsed": 0.011040210723876953,
       "ncols": null,
       "nrows": null,
       "prefix": "",
       "ascii": false,
       "unit": "it",
       "unit_scale": false,
       "rate": null,
       "bar_format": null,
       "postfix": null,
       "unit_divisor": 1000,
       "initial": 0,
       "colour": null
      }
     },
     "metadata": {},
     "output_type": "display_data"
    },
    {
     "name": "stdout",
     "output_type": "stream",
     "text": [
      "In epochs 23 | total loss: -2.913009 | Space: 0.002769 | Time: 2.910240\n"
     ]
    },
    {
     "data": {
      "text/plain": "  0%|          | 0/50 [00:00<?, ?it/s]",
      "application/vnd.jupyter.widget-view+json": {
       "version_major": 2,
       "version_minor": 0,
       "model_id": "3152ae1fadd54083af68b2fb9126df61"
      },
      "application/json": {
       "n": 0,
       "total": 50,
       "elapsed": 0.010874509811401367,
       "ncols": null,
       "nrows": null,
       "prefix": "",
       "ascii": false,
       "unit": "it",
       "unit_scale": false,
       "rate": null,
       "bar_format": null,
       "postfix": null,
       "unit_divisor": 1000,
       "initial": 0,
       "colour": null
      }
     },
     "metadata": {},
     "output_type": "display_data"
    },
    {
     "name": "stdout",
     "output_type": "stream",
     "text": [
      "In epochs 24 | total loss: -2.915303 | Space: 0.002776 | Time: 2.912527\n",
      "Evaluate     | val loss:   -2.204487 | Space: 0.017379 | Time: 2.187108\n"
     ]
    },
    {
     "data": {
      "text/plain": "  0%|          | 0/50 [00:00<?, ?it/s]",
      "application/vnd.jupyter.widget-view+json": {
       "version_major": 2,
       "version_minor": 0,
       "model_id": "4dbaa0c2b61943ffae0227b3025a3cb9"
      },
      "application/json": {
       "n": 0,
       "total": 50,
       "elapsed": 0.010547637939453125,
       "ncols": null,
       "nrows": null,
       "prefix": "",
       "ascii": false,
       "unit": "it",
       "unit_scale": false,
       "rate": null,
       "bar_format": null,
       "postfix": null,
       "unit_divisor": 1000,
       "initial": 0,
       "colour": null
      }
     },
     "metadata": {},
     "output_type": "display_data"
    },
    {
     "name": "stdout",
     "output_type": "stream",
     "text": [
      "In epochs 25 | total loss: -2.917167 | Space: 0.002783 | Time: 2.914384\n"
     ]
    },
    {
     "data": {
      "text/plain": "  0%|          | 0/50 [00:00<?, ?it/s]",
      "application/vnd.jupyter.widget-view+json": {
       "version_major": 2,
       "version_minor": 0,
       "model_id": "a0682c5045d44682a8a26474641f4924"
      },
      "application/json": {
       "n": 0,
       "total": 50,
       "elapsed": 0.01090550422668457,
       "ncols": null,
       "nrows": null,
       "prefix": "",
       "ascii": false,
       "unit": "it",
       "unit_scale": false,
       "rate": null,
       "bar_format": null,
       "postfix": null,
       "unit_divisor": 1000,
       "initial": 0,
       "colour": null
      }
     },
     "metadata": {},
     "output_type": "display_data"
    },
    {
     "name": "stdout",
     "output_type": "stream",
     "text": [
      "In epochs 26 | total loss: -2.919127 | Space: 0.002784 | Time: 2.916344\n"
     ]
    },
    {
     "data": {
      "text/plain": "  0%|          | 0/50 [00:00<?, ?it/s]",
      "application/vnd.jupyter.widget-view+json": {
       "version_major": 2,
       "version_minor": 0,
       "model_id": "db1f7fe6d780406488d4f7e23d73dab2"
      },
      "application/json": {
       "n": 0,
       "total": 50,
       "elapsed": 0.011131048202514648,
       "ncols": null,
       "nrows": null,
       "prefix": "",
       "ascii": false,
       "unit": "it",
       "unit_scale": false,
       "rate": null,
       "bar_format": null,
       "postfix": null,
       "unit_divisor": 1000,
       "initial": 0,
       "colour": null
      }
     },
     "metadata": {},
     "output_type": "display_data"
    },
    {
     "name": "stdout",
     "output_type": "stream",
     "text": [
      "In epochs 27 | total loss: -2.920913 | Space: 0.002788 | Time: 2.918125\n"
     ]
    },
    {
     "data": {
      "text/plain": "  0%|          | 0/50 [00:00<?, ?it/s]",
      "application/vnd.jupyter.widget-view+json": {
       "version_major": 2,
       "version_minor": 0,
       "model_id": "b0e6e6645ed343189340bdbd909d7a21"
      },
      "application/json": {
       "n": 0,
       "total": 50,
       "elapsed": 0.010508298873901367,
       "ncols": null,
       "nrows": null,
       "prefix": "",
       "ascii": false,
       "unit": "it",
       "unit_scale": false,
       "rate": null,
       "bar_format": null,
       "postfix": null,
       "unit_divisor": 1000,
       "initial": 0,
       "colour": null
      }
     },
     "metadata": {},
     "output_type": "display_data"
    },
    {
     "name": "stdout",
     "output_type": "stream",
     "text": [
      "In epochs 28 | total loss: -2.922653 | Space: 0.002787 | Time: 2.919866\n"
     ]
    },
    {
     "data": {
      "text/plain": "  0%|          | 0/50 [00:00<?, ?it/s]",
      "application/vnd.jupyter.widget-view+json": {
       "version_major": 2,
       "version_minor": 0,
       "model_id": "8516ad5864dd46a6ad03f009d1d3fe31"
      },
      "application/json": {
       "n": 0,
       "total": 50,
       "elapsed": 0.010826587677001953,
       "ncols": null,
       "nrows": null,
       "prefix": "",
       "ascii": false,
       "unit": "it",
       "unit_scale": false,
       "rate": null,
       "bar_format": null,
       "postfix": null,
       "unit_divisor": 1000,
       "initial": 0,
       "colour": null
      }
     },
     "metadata": {},
     "output_type": "display_data"
    },
    {
     "name": "stdout",
     "output_type": "stream",
     "text": [
      "In epochs 29 | total loss: -2.924175 | Space: 0.002793 | Time: 2.921383\n",
      "Evaluate     | val loss:   -2.204478 | Space: 0.017379 | Time: 2.187099\n"
     ]
    },
    {
     "data": {
      "text/plain": "  0%|          | 0/50 [00:00<?, ?it/s]",
      "application/vnd.jupyter.widget-view+json": {
       "version_major": 2,
       "version_minor": 0,
       "model_id": "0d4d444244874b018b856e371f941bdb"
      },
      "application/json": {
       "n": 0,
       "total": 50,
       "elapsed": 0.010926485061645508,
       "ncols": null,
       "nrows": null,
       "prefix": "",
       "ascii": false,
       "unit": "it",
       "unit_scale": false,
       "rate": null,
       "bar_format": null,
       "postfix": null,
       "unit_divisor": 1000,
       "initial": 0,
       "colour": null
      }
     },
     "metadata": {},
     "output_type": "display_data"
    },
    {
     "name": "stdout",
     "output_type": "stream",
     "text": [
      "In epochs 30 | total loss: -2.925695 | Space: 0.002787 | Time: 2.922909\n"
     ]
    },
    {
     "data": {
      "text/plain": "  0%|          | 0/50 [00:00<?, ?it/s]",
      "application/vnd.jupyter.widget-view+json": {
       "version_major": 2,
       "version_minor": 0,
       "model_id": "46725988bddf4f4998d64bad786899e6"
      },
      "application/json": {
       "n": 0,
       "total": 50,
       "elapsed": 0.010709524154663086,
       "ncols": null,
       "nrows": null,
       "prefix": "",
       "ascii": false,
       "unit": "it",
       "unit_scale": false,
       "rate": null,
       "bar_format": null,
       "postfix": null,
       "unit_divisor": 1000,
       "initial": 0,
       "colour": null
      }
     },
     "metadata": {},
     "output_type": "display_data"
    },
    {
     "name": "stdout",
     "output_type": "stream",
     "text": [
      "In epochs 31 | total loss: -2.927079 | Space: 0.002784 | Time: 2.924296\n"
     ]
    },
    {
     "data": {
      "text/plain": "  0%|          | 0/50 [00:00<?, ?it/s]",
      "application/vnd.jupyter.widget-view+json": {
       "version_major": 2,
       "version_minor": 0,
       "model_id": "5aaaf14fe9dc439781cd9d1a70653d5f"
      },
      "application/json": {
       "n": 0,
       "total": 50,
       "elapsed": 0.010081291198730469,
       "ncols": null,
       "nrows": null,
       "prefix": "",
       "ascii": false,
       "unit": "it",
       "unit_scale": false,
       "rate": null,
       "bar_format": null,
       "postfix": null,
       "unit_divisor": 1000,
       "initial": 0,
       "colour": null
      }
     },
     "metadata": {},
     "output_type": "display_data"
    },
    {
     "name": "stdout",
     "output_type": "stream",
     "text": [
      "In epochs 32 | total loss: -2.927894 | Space: 0.002791 | Time: 2.925103\n"
     ]
    },
    {
     "data": {
      "text/plain": "  0%|          | 0/50 [00:00<?, ?it/s]",
      "application/vnd.jupyter.widget-view+json": {
       "version_major": 2,
       "version_minor": 0,
       "model_id": "2d2af63b3a5a41b6b37ac24a4bd6b741"
      },
      "application/json": {
       "n": 0,
       "total": 50,
       "elapsed": 0.011624813079833984,
       "ncols": null,
       "nrows": null,
       "prefix": "",
       "ascii": false,
       "unit": "it",
       "unit_scale": false,
       "rate": null,
       "bar_format": null,
       "postfix": null,
       "unit_divisor": 1000,
       "initial": 0,
       "colour": null
      }
     },
     "metadata": {},
     "output_type": "display_data"
    },
    {
     "name": "stdout",
     "output_type": "stream",
     "text": [
      "In epochs 33 | total loss: -2.929217 | Space: 0.002798 | Time: 2.926419\n"
     ]
    },
    {
     "data": {
      "text/plain": "  0%|          | 0/50 [00:00<?, ?it/s]",
      "application/vnd.jupyter.widget-view+json": {
       "version_major": 2,
       "version_minor": 0,
       "model_id": "7409d82714e84e9db7878db2d2557617"
      },
      "application/json": {
       "n": 0,
       "total": 50,
       "elapsed": 0.01151275634765625,
       "ncols": null,
       "nrows": null,
       "prefix": "",
       "ascii": false,
       "unit": "it",
       "unit_scale": false,
       "rate": null,
       "bar_format": null,
       "postfix": null,
       "unit_divisor": 1000,
       "initial": 0,
       "colour": null
      }
     },
     "metadata": {},
     "output_type": "display_data"
    },
    {
     "name": "stdout",
     "output_type": "stream",
     "text": [
      "In epochs 34 | total loss: -2.930166 | Space: 0.002790 | Time: 2.927375\n",
      "Evaluate     | val loss:   -2.204478 | Space: 0.017379 | Time: 2.187100\n"
     ]
    },
    {
     "data": {
      "text/plain": "  0%|          | 0/50 [00:00<?, ?it/s]",
      "application/vnd.jupyter.widget-view+json": {
       "version_major": 2,
       "version_minor": 0,
       "model_id": "c51a4b986bb74e3d8a3d51ce44064700"
      },
      "application/json": {
       "n": 0,
       "total": 50,
       "elapsed": 0.014697551727294922,
       "ncols": null,
       "nrows": null,
       "prefix": "",
       "ascii": false,
       "unit": "it",
       "unit_scale": false,
       "rate": null,
       "bar_format": null,
       "postfix": null,
       "unit_divisor": 1000,
       "initial": 0,
       "colour": null
      }
     },
     "metadata": {},
     "output_type": "display_data"
    },
    {
     "name": "stdout",
     "output_type": "stream",
     "text": [
      "In epochs 35 | total loss: -2.930903 | Space: 0.002792 | Time: 2.928111\n"
     ]
    },
    {
     "data": {
      "text/plain": "  0%|          | 0/50 [00:00<?, ?it/s]",
      "application/vnd.jupyter.widget-view+json": {
       "version_major": 2,
       "version_minor": 0,
       "model_id": "d65f785553594accad7548f5c9a86fe6"
      },
      "application/json": {
       "n": 0,
       "total": 50,
       "elapsed": 0.011467218399047852,
       "ncols": null,
       "nrows": null,
       "prefix": "",
       "ascii": false,
       "unit": "it",
       "unit_scale": false,
       "rate": null,
       "bar_format": null,
       "postfix": null,
       "unit_divisor": 1000,
       "initial": 0,
       "colour": null
      }
     },
     "metadata": {},
     "output_type": "display_data"
    },
    {
     "name": "stdout",
     "output_type": "stream",
     "text": [
      "In epochs 36 | total loss: -2.931986 | Space: 0.002789 | Time: 2.929198\n"
     ]
    },
    {
     "data": {
      "text/plain": "  0%|          | 0/50 [00:00<?, ?it/s]",
      "application/vnd.jupyter.widget-view+json": {
       "version_major": 2,
       "version_minor": 0,
       "model_id": "857745a748604047a334fefb5eaae7f4"
      },
      "application/json": {
       "n": 0,
       "total": 50,
       "elapsed": 0.011218547821044922,
       "ncols": null,
       "nrows": null,
       "prefix": "",
       "ascii": false,
       "unit": "it",
       "unit_scale": false,
       "rate": null,
       "bar_format": null,
       "postfix": null,
       "unit_divisor": 1000,
       "initial": 0,
       "colour": null
      }
     },
     "metadata": {},
     "output_type": "display_data"
    },
    {
     "name": "stdout",
     "output_type": "stream",
     "text": [
      "In epochs 37 | total loss: -2.933133 | Space: 0.002793 | Time: 2.930340\n"
     ]
    },
    {
     "data": {
      "text/plain": "  0%|          | 0/50 [00:00<?, ?it/s]",
      "application/vnd.jupyter.widget-view+json": {
       "version_major": 2,
       "version_minor": 0,
       "model_id": "f9b9589ad38a493bb02e3889cf6186c5"
      },
      "application/json": {
       "n": 0,
       "total": 50,
       "elapsed": 0.012059926986694336,
       "ncols": null,
       "nrows": null,
       "prefix": "",
       "ascii": false,
       "unit": "it",
       "unit_scale": false,
       "rate": null,
       "bar_format": null,
       "postfix": null,
       "unit_divisor": 1000,
       "initial": 0,
       "colour": null
      }
     },
     "metadata": {},
     "output_type": "display_data"
    },
    {
     "name": "stdout",
     "output_type": "stream",
     "text": [
      "In epochs 38 | total loss: -2.934240 | Space: 0.002787 | Time: 2.931452\n"
     ]
    },
    {
     "data": {
      "text/plain": "  0%|          | 0/50 [00:00<?, ?it/s]",
      "application/vnd.jupyter.widget-view+json": {
       "version_major": 2,
       "version_minor": 0,
       "model_id": "2bc26f64a6dc40f3be2ff1eb3011ef17"
      },
      "application/json": {
       "n": 0,
       "total": 50,
       "elapsed": 0.01011800765991211,
       "ncols": null,
       "nrows": null,
       "prefix": "",
       "ascii": false,
       "unit": "it",
       "unit_scale": false,
       "rate": null,
       "bar_format": null,
       "postfix": null,
       "unit_divisor": 1000,
       "initial": 0,
       "colour": null
      }
     },
     "metadata": {},
     "output_type": "display_data"
    },
    {
     "name": "stdout",
     "output_type": "stream",
     "text": [
      "In epochs 39 | total loss: -2.935206 | Space: 0.002796 | Time: 2.932410\n",
      "Evaluate     | val loss:   -2.204477 | Space: 0.017379 | Time: 2.187099\n"
     ]
    },
    {
     "data": {
      "text/plain": "  0%|          | 0/50 [00:00<?, ?it/s]",
      "application/vnd.jupyter.widget-view+json": {
       "version_major": 2,
       "version_minor": 0,
       "model_id": "a9fd113000684c3eb05fee48ce9f7290"
      },
      "application/json": {
       "n": 0,
       "total": 50,
       "elapsed": 0.010940790176391602,
       "ncols": null,
       "nrows": null,
       "prefix": "",
       "ascii": false,
       "unit": "it",
       "unit_scale": false,
       "rate": null,
       "bar_format": null,
       "postfix": null,
       "unit_divisor": 1000,
       "initial": 0,
       "colour": null
      }
     },
     "metadata": {},
     "output_type": "display_data"
    },
    {
     "name": "stdout",
     "output_type": "stream",
     "text": [
      "In epochs 40 | total loss: -2.936049 | Space: 0.002794 | Time: 2.933255\n"
     ]
    },
    {
     "data": {
      "text/plain": "  0%|          | 0/50 [00:00<?, ?it/s]",
      "application/vnd.jupyter.widget-view+json": {
       "version_major": 2,
       "version_minor": 0,
       "model_id": "94d9175609f94ef790898023e1f59812"
      },
      "application/json": {
       "n": 0,
       "total": 50,
       "elapsed": 0.010693073272705078,
       "ncols": null,
       "nrows": null,
       "prefix": "",
       "ascii": false,
       "unit": "it",
       "unit_scale": false,
       "rate": null,
       "bar_format": null,
       "postfix": null,
       "unit_divisor": 1000,
       "initial": 0,
       "colour": null
      }
     },
     "metadata": {},
     "output_type": "display_data"
    },
    {
     "name": "stdout",
     "output_type": "stream",
     "text": [
      "In epochs 41 | total loss: -2.936923 | Space: 0.002789 | Time: 2.934133\n"
     ]
    },
    {
     "data": {
      "text/plain": "  0%|          | 0/50 [00:00<?, ?it/s]",
      "application/vnd.jupyter.widget-view+json": {
       "version_major": 2,
       "version_minor": 0,
       "model_id": "cc9eb216b9da4f54a133471e787be77a"
      },
      "application/json": {
       "n": 0,
       "total": 50,
       "elapsed": 0.011023521423339844,
       "ncols": null,
       "nrows": null,
       "prefix": "",
       "ascii": false,
       "unit": "it",
       "unit_scale": false,
       "rate": null,
       "bar_format": null,
       "postfix": null,
       "unit_divisor": 1000,
       "initial": 0,
       "colour": null
      }
     },
     "metadata": {},
     "output_type": "display_data"
    },
    {
     "name": "stdout",
     "output_type": "stream",
     "text": [
      "In epochs 42 | total loss: -2.937688 | Space: 0.002794 | Time: 2.934895\n"
     ]
    },
    {
     "data": {
      "text/plain": "  0%|          | 0/50 [00:00<?, ?it/s]",
      "application/vnd.jupyter.widget-view+json": {
       "version_major": 2,
       "version_minor": 0,
       "model_id": "8eb17a4aa2d744c48501469c76f0a1f0"
      },
      "application/json": {
       "n": 0,
       "total": 50,
       "elapsed": 0.01040029525756836,
       "ncols": null,
       "nrows": null,
       "prefix": "",
       "ascii": false,
       "unit": "it",
       "unit_scale": false,
       "rate": null,
       "bar_format": null,
       "postfix": null,
       "unit_divisor": 1000,
       "initial": 0,
       "colour": null
      }
     },
     "metadata": {},
     "output_type": "display_data"
    },
    {
     "name": "stdout",
     "output_type": "stream",
     "text": [
      "In epochs 43 | total loss: -2.938367 | Space: 0.002799 | Time: 2.935568\n"
     ]
    },
    {
     "data": {
      "text/plain": "  0%|          | 0/50 [00:00<?, ?it/s]",
      "application/vnd.jupyter.widget-view+json": {
       "version_major": 2,
       "version_minor": 0,
       "model_id": "c55c64109b894f30bcb36fec2cb0096e"
      },
      "application/json": {
       "n": 0,
       "total": 50,
       "elapsed": 0.01031041145324707,
       "ncols": null,
       "nrows": null,
       "prefix": "",
       "ascii": false,
       "unit": "it",
       "unit_scale": false,
       "rate": null,
       "bar_format": null,
       "postfix": null,
       "unit_divisor": 1000,
       "initial": 0,
       "colour": null
      }
     },
     "metadata": {},
     "output_type": "display_data"
    },
    {
     "name": "stdout",
     "output_type": "stream",
     "text": [
      "In epochs 44 | total loss: -2.939044 | Space: 0.002805 | Time: 2.936239\n",
      "Evaluate     | val loss:   -2.204477 | Space: 0.017379 | Time: 2.187099\n"
     ]
    },
    {
     "data": {
      "text/plain": "  0%|          | 0/50 [00:00<?, ?it/s]",
      "application/vnd.jupyter.widget-view+json": {
       "version_major": 2,
       "version_minor": 0,
       "model_id": "18c4c60243464b0a93bf08631f4f94f4"
      },
      "application/json": {
       "n": 0,
       "total": 50,
       "elapsed": 0.010758399963378906,
       "ncols": null,
       "nrows": null,
       "prefix": "",
       "ascii": false,
       "unit": "it",
       "unit_scale": false,
       "rate": null,
       "bar_format": null,
       "postfix": null,
       "unit_divisor": 1000,
       "initial": 0,
       "colour": null
      }
     },
     "metadata": {},
     "output_type": "display_data"
    },
    {
     "name": "stdout",
     "output_type": "stream",
     "text": [
      "In epochs 45 | total loss: -2.939549 | Space: 0.002809 | Time: 2.936740\n"
     ]
    },
    {
     "data": {
      "text/plain": "  0%|          | 0/50 [00:00<?, ?it/s]",
      "application/vnd.jupyter.widget-view+json": {
       "version_major": 2,
       "version_minor": 0,
       "model_id": "9b62d5c66df649e98ae5bdc6bf032110"
      },
      "application/json": {
       "n": 0,
       "total": 50,
       "elapsed": 0.010448217391967773,
       "ncols": null,
       "nrows": null,
       "prefix": "",
       "ascii": false,
       "unit": "it",
       "unit_scale": false,
       "rate": null,
       "bar_format": null,
       "postfix": null,
       "unit_divisor": 1000,
       "initial": 0,
       "colour": null
      }
     },
     "metadata": {},
     "output_type": "display_data"
    },
    {
     "name": "stdout",
     "output_type": "stream",
     "text": [
      "In epochs 46 | total loss: -2.940173 | Space: 0.002810 | Time: 2.937363\n"
     ]
    },
    {
     "data": {
      "text/plain": "  0%|          | 0/50 [00:00<?, ?it/s]",
      "application/vnd.jupyter.widget-view+json": {
       "version_major": 2,
       "version_minor": 0,
       "model_id": "a74a87dda83c4a2c8acf5ad7cb8ba203"
      },
      "application/json": {
       "n": 0,
       "total": 50,
       "elapsed": 0.010476827621459961,
       "ncols": null,
       "nrows": null,
       "prefix": "",
       "ascii": false,
       "unit": "it",
       "unit_scale": false,
       "rate": null,
       "bar_format": null,
       "postfix": null,
       "unit_divisor": 1000,
       "initial": 0,
       "colour": null
      }
     },
     "metadata": {},
     "output_type": "display_data"
    },
    {
     "name": "stdout",
     "output_type": "stream",
     "text": [
      "In epochs 47 | total loss: -2.940779 | Space: 0.002802 | Time: 2.937977\n"
     ]
    },
    {
     "data": {
      "text/plain": "  0%|          | 0/50 [00:00<?, ?it/s]",
      "application/vnd.jupyter.widget-view+json": {
       "version_major": 2,
       "version_minor": 0,
       "model_id": "2c9eeed4b2f242a691af16ca65a5d302"
      },
      "application/json": {
       "n": 0,
       "total": 50,
       "elapsed": 0.010480403900146484,
       "ncols": null,
       "nrows": null,
       "prefix": "",
       "ascii": false,
       "unit": "it",
       "unit_scale": false,
       "rate": null,
       "bar_format": null,
       "postfix": null,
       "unit_divisor": 1000,
       "initial": 0,
       "colour": null
      }
     },
     "metadata": {},
     "output_type": "display_data"
    },
    {
     "name": "stdout",
     "output_type": "stream",
     "text": [
      "In epochs 48 | total loss: -2.941175 | Space: 0.002805 | Time: 2.938370\n"
     ]
    },
    {
     "data": {
      "text/plain": "  0%|          | 0/50 [00:00<?, ?it/s]",
      "application/vnd.jupyter.widget-view+json": {
       "version_major": 2,
       "version_minor": 0,
       "model_id": "f734dbbdb79047538a2e3484a25f1f23"
      },
      "application/json": {
       "n": 0,
       "total": 50,
       "elapsed": 0.00991368293762207,
       "ncols": null,
       "nrows": null,
       "prefix": "",
       "ascii": false,
       "unit": "it",
       "unit_scale": false,
       "rate": null,
       "bar_format": null,
       "postfix": null,
       "unit_divisor": 1000,
       "initial": 0,
       "colour": null
      }
     },
     "metadata": {},
     "output_type": "display_data"
    },
    {
     "name": "stdout",
     "output_type": "stream",
     "text": [
      "In epochs 49 | total loss: -2.941272 | Space: 0.002809 | Time: 2.938463\n",
      "Evaluate     | val loss:   -2.204477 | Space: 0.017379 | Time: 2.187099\n",
      "training done!\n"
     ]
    }
   ],
   "source": [
    "model = AutoIntSTPPSameInfluence(config.hid_dim, device=device).to(device)\n",
    "optimizer = torch.optim.Adam(model.parameters(), lr=config.lr)\n",
    "scheduler = torch.optim.lr_scheduler.StepLR(optimizer, step_size=5, gamma=0.1)\n",
    "best_eval = np.infty\n",
    "sll_meter = AverageMeter()\n",
    "tll_meter = AverageMeter()\n",
    "loss_meter = AverageMeter()\n",
    "\n",
    "time_now = str(datetime.datetime.now())\n",
    "parent_dir = f'models/AutoInt-STPP-Same-Influence-{dataset}-{time_now}'\n",
    "os.mkdir(parent_dir)\n",
    "\n",
    "for epoch in trange(config.epochs):\n",
    "    loss_total = 0\n",
    "    model.train()\n",
    "    for index, data in tenumerate(train_loader):\n",
    "        st_x, st_y, _, _, _ = data\n",
    "        optimizer.zero_grad()\n",
    "        loss, sll, tll = model(st_x, st_y)\n",
    "\n",
    "        if torch.isnan(loss):\n",
    "            print(\"Numerical error, quiting...\")\n",
    "\n",
    "        loss.backward()\n",
    "        torch.nn.utils.clip_grad_norm_(model.parameters(), config.clip)\n",
    "        optimizer.step()\n",
    "\n",
    "        # Project to feasible set\n",
    "        model.project()\n",
    "\n",
    "        loss_meter.update(loss.item())\n",
    "        sll_meter.update(sll.mean().item())\n",
    "        tll_meter.update(tll.mean().item())\n",
    "\n",
    "    scheduler.step()\n",
    "\n",
    "    print(\"In epochs {} | \"\n",
    "                \"total loss: {:5f} | Space: {:5f} | Time: {:5f}\".format(\n",
    "        epoch, loss_meter.avg, sll_meter.avg , tll_meter.avg\n",
    "    ))\n",
    "\n",
    "    if (epoch + 1) % config.eval_epoch == 0:\n",
    "        model.eval()\n",
    "        valloss, valspace, valtime = eval_loss(model, val_loader)\n",
    "        print(\"Evaluate     | val loss:   {:5f} | Space: {:5f} | Time: {:5f}\".format(valloss, valspace, valtime))\n",
    "        if valloss < best_eval:\n",
    "            best_eval = valloss\n",
    "            torch.save({\n",
    "                'model_state_dict': model.state_dict(),\n",
    "                'optimizer_state_dict': optimizer.state_dict(),\n",
    "                'scheduler_state_dict': scheduler.state_dict(),\n",
    "            }, f'{parent_dir}/AutoIntSTPP-{epoch}.mod')\n",
    "\n",
    "print(\"training done!\")\n"
   ],
   "metadata": {
    "collapsed": false
   }
  },
  {
   "cell_type": "code",
   "execution_count": null,
   "outputs": [],
   "source": [],
   "metadata": {
    "collapsed": false
   }
  }
 ],
 "metadata": {
  "kernelspec": {
   "display_name": "Python 3",
   "language": "python",
   "name": "python3"
  },
  "language_info": {
   "codemirror_mode": {
    "name": "ipython",
    "version": 2
   },
   "file_extension": ".py",
   "mimetype": "text/x-python",
   "name": "python",
   "nbconvert_exporter": "python",
   "pygments_lexer": "ipython2",
   "version": "2.7.6"
  }
 },
 "nbformat": 4,
 "nbformat_minor": 0
}
